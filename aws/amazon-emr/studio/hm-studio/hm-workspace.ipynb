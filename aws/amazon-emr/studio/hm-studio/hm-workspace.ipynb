{
 "cells": [
  {
   "cell_type": "code",
   "execution_count": null,
   "id": "e68c2f05",
   "metadata": {},
   "outputs": [],
   "source": [
    "%%configure -f\n",
    "{\n",
    "  \"conf\": {\n",
    "    \"spark.sql.extensions\": \"io.delta.sql.DeltaSparkSessionExtension\",\n",
    "    \"spark.sql.catalog.spark_catalog\": \"org.apache.spark.sql.delta.catalog.DeltaCatalog\"\n",
    "  }\n",
    "}"
   ]
  },
  {
   "cell_type": "code",
   "execution_count": null,
   "id": "a5928e38-7b13-4133-b721-a97832d1b2f7",
   "metadata": {},
   "outputs": [],
   "source": [
    "%%sql\n",
    "select * from delta . `s3a://hongbomiao-bucket/delta-tables/motor` limit 10;"
   ]
  },
  {
   "cell_type": "code",
   "execution_count": null,
   "id": "4fec319a",
   "metadata": {},
   "outputs": [],
   "source": [
    "%%sql\n",
    "create temporary view hm_motor\n",
    "using org.apache.spark.sql.parquet\n",
    "options (\n",
    "  path \"s3a://hongbomiao-bucket/raw-parquet/motor.parquet\"\n",
    ")"
   ]
  },
  {
   "cell_type": "code",
   "execution_count": null,
   "id": "8844a4ec",
   "metadata": {},
   "outputs": [],
   "source": [
    "%%sql\n",
    "select * from hm_motor"
   ]
  },
  {
   "cell_type": "code",
   "execution_count": null,
   "id": "4c562d57",
   "metadata": {},
   "outputs": [],
   "source": []
  }
 ],
 "metadata": {
  "kernelspec": {
   "display_name": "Spark",
   "language": "scala",
   "name": "sparkkernel"
  },
  "language_info": {
   "codemirror_mode": "text/x-scala",
   "file_extension": ".sc",
   "mimetype": "text/x-scala",
   "name": "scala",
   "pygments_lexer": "scala"
  }
 },
 "nbformat": 4,
 "nbformat_minor": 5
}
