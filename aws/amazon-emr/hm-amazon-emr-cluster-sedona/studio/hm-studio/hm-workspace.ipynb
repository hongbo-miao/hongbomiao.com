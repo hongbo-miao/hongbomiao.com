{
 "cells": [
  {
   "cell_type": "code",
   "execution_count": null,
   "id": "e68c2f05",
   "metadata": {},
   "outputs": [],
   "source": [
    "%%configure -f\n",
    "{\n",
    "  \"conf\": {\n",
    "    \"spark.sql.extensions\": \"io.delta.sql.DeltaSparkSessionExtension,org.apache.sedona.sql.SedonaSqlExtensions,org.apache.sedona.viz.sql.SedonaVizExtensions\",\n",
    "    \"spark.sql.catalog.spark_catalog\": \"org.apache.spark.sql.delta.catalog.DeltaCatalog\"\n",
    "  }\n",
    "}"
   ]
  },
  {
   "cell_type": "code",
   "execution_count": null,
   "id": "a5928e38-7b13-4133-b721-a97832d1b2f7",
   "metadata": {},
   "outputs": [],
   "source": [
    "%%sql\n",
    "select\n",
    "    _time,\n",
    "    ST_Distance(\n",
    "        ST_GeomFromWKT('POINT(34.052235 -118.243683)'),\n",
    "        ST_GeomFromWKT(_coordinate)\n",
    "    ) as `Distance to Los Angeles, CA`\n",
    "from adsb_db.adsb_2x_flight_trace_data\n",
    "order by _time desc\n",
    "limit 5;"
   ]
  },
  {
   "cell_type": "code",
   "execution_count": null,
   "id": "1f822e54f101305c",
   "metadata": {},
   "outputs": [],
   "source": [
    "%%sql\n",
    "select *\n",
    "from delta.`s3a://hongbomiao-bucket/delta-tables/motor_data`\n",
    "limit 10;"
   ]
  },
  {
   "cell_type": "code",
   "execution_count": null,
   "id": "4fec319a",
   "metadata": {},
   "outputs": [],
   "source": [
    "%%sql\n",
    "create temporary view hm_motor\n",
    "using org.apache.spark.sql.parquet\n",
    "options (\n",
    "  path \"s3a://hongbomiao-bucket/raw-parquet/motor.parquet\"\n",
    ");"
   ]
  },
  {
   "cell_type": "code",
   "execution_count": null,
   "id": "8844a4ec",
   "metadata": {},
   "outputs": [],
   "source": [
    "%%sql\n",
    "select * from hm_motor;"
   ]
  }
 ],
 "metadata": {
  "kernelspec": {
   "display_name": "Spark",
   "language": "scala",
   "name": "sparkkernel"
  },
  "language_info": {
   "codemirror_mode": "text/x-scala",
   "file_extension": ".sc",
   "mimetype": "text/x-scala",
   "name": "scala",
   "pygments_lexer": "scala"
  }
 },
 "nbformat": 4,
 "nbformat_minor": 5
}
